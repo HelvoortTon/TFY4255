{
 "cells": [
  {
   "cell_type": "code",
   "execution_count": 1,
   "metadata": {
    "tags": []
   },
   "outputs": [],
   "source": [
    "# Run this cell if you want to save all the files in a zip file.\n",
    "# You can then download the zip file from the file browser on the left.\n",
    "\n",
    "import zipfile, os\n",
    "\n",
    "def zip_files(target_filename):\n",
    "    # if there is a zip file with the same name, delete it\n",
    "    if os.path.exists(target_filename):\n",
    "        os.remove(target_filename)\n",
    "\n",
    "    # create a zip file\n",
    "    with zipfile.ZipFile(target_filename, \"w\", zipfile.ZIP_DEFLATED) as zip:\n",
    "        for root, dirs, files in os.walk(\".\"):\n",
    "            for file in files:\n",
    "                if os.path.normpath(os.path.join(root,file)) == os.path.normpath(target_filename):\n",
    "                    continue # Skip target_filename\n",
    "                zip.write(os.path.join(root, file), os.path.relpath(os.path.join(root, file), \".\")) \n",
    "\n",
    "zip_files(\"download.zip\")\n",
    "\n",
    "# download the zip file to your computer by right clicking on the file in the file browser on the left"
   ]
  }
 ],
 "metadata": {
  "kernelspec": {
   "display_name": "Python [conda env:tfy4255]",
   "language": "python",
   "name": "conda-env-tfy4255-py"
  },
  "language_info": {
   "codemirror_mode": {
    "name": "ipython",
    "version": 3
   },
   "file_extension": ".py",
   "mimetype": "text/x-python",
   "name": "python",
   "nbconvert_exporter": "python",
   "pygments_lexer": "ipython3",
   "version": "3.11.5"
  }
 },
 "nbformat": 4,
 "nbformat_minor": 4
}
